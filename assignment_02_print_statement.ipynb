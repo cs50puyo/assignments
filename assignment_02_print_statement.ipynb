{
 "cells": [
  {
   "cell_type": "markdown",
   "metadata": {},
   "source": [
    "# Assignment 02: Print Statement"
   ]
  },
  {
   "cell_type": "markdown",
   "metadata": {},
   "source": [
    "## Assignment Policy\n",
    "\n",
    "1. Keep in mind how important is to be honest while doing your assignment, so **DO NOT PLAGIARIZE**. The violation of this policy will automatically get you out of the course, and it might have further consequences in your high school.\n",
    "\n",
    "2. Organize your time well and avoid procrastinating. Remember that if you run into trouble you could use one of your free assignment penalties to postpone a deadline, but use them wisely.\n",
    "\n",
    "3. Follow the coding styles that we have discussed in class."
   ]
  },
  {
   "cell_type": "markdown",
   "metadata": {},
   "source": [
    "## Instructions"
   ]
  },
  {
   "cell_type": "markdown",
   "metadata": {},
   "source": [
    "In the home directory `~` create a directory called `assignments`. Inside assignments create a directory called `print-statement`. For each exercise create a file inside `print-statement` called `exercise_XX.py` where `XX` is the number of the exercise. For example, for exercise 1 the file should be named `exercise_01.py`.\n",
    "\n",
    "Remember that to run a python program you can use:\n",
    "\n",
    "`$ python filename.py`\n",
    "\n",
    "When you are done with the exercises, compress your directory `print-statement` and submit it to the corresponding Trello card on your board.\n",
    "\n",
    "**Note:** Feel free to ask as many questions as you want to the instructor."
   ]
  },
  {
   "cell_type": "markdown",
   "metadata": {},
   "source": [
    "### Exercise 01\n",
    "#### Write a program that displays 3 different mensages in 3 different lines: *`Welcome to Python`*, *`Welcome to Computer Science`*, and *`Programming is fun`*."
   ]
  },
  {
   "cell_type": "markdown",
   "metadata": {},
   "source": [
    "### Exercise 02\n",
    "#### Write a program that displays *`Welcome to Python`* five times in five different lines."
   ]
  },
  {
   "cell_type": "markdown",
   "metadata": {},
   "source": [
    "### Exercise 03 \n",
    "#### Write a program that displays the following pattern:"
   ]
  },
  {
   "cell_type": "code",
   "execution_count": null,
   "metadata": {
    "collapsed": true
   },
   "outputs": [],
   "source": [
    "FFFFFFF  U     U  NN     NN\n",
    "FF       U     U  NNN    NN\n",
    "FFFFFFF  U     U  NN N   NN\n",
    "FF        U   U   NN  N  NN\n",
    "FF         UUU    NN    NNN"
   ]
  },
  {
   "cell_type": "markdown",
   "metadata": {},
   "source": [
    "### Exercise 04 \n",
    "#### Write a program that displays the following table:"
   ]
  },
  {
   "cell_type": "code",
   "execution_count": null,
   "metadata": {
    "collapsed": true
   },
   "outputs": [],
   "source": [
    "a   a^2   a^3\n",
    "1   1     1\n",
    "2   4     8\n",
    "3   9     27\n",
    "4   16    64"
   ]
  },
  {
   "cell_type": "markdown",
   "metadata": {},
   "source": [
    "### Exercise 05\n",
    "#### Write a program that displays the result of *`1 + 2 + 3 + 4 + 5 + 6 + 7 + 8 + 9`*. The output printed should be:\n",
    "\n",
    "`The result of 1 + 2 + 3 + 4 + 5 + 6 + 7 + 8 + 9 is XX`\n",
    "\n",
    "#### Where XX is the result of the sum. Compute the operation using Python, do not provide the result directly."
   ]
  },
  {
   "cell_type": "markdown",
   "metadata": {},
   "source": [
    "### Exercise 06\n",
    "#### Write a program to compute the area of a circle of radius 10 cm. The output printed should be:\n",
    "`The area of a circle of radius 10 is XX`\n",
    "#### Where XX is the are of the circle of radius 10. Use python to compute the area of the circle, so do not provide the result directly. Use 3.141592 as the value of $\\pi$"
   ]
  }
 ],
 "metadata": {
  "kernelspec": {
   "display_name": "Python [default]",
   "language": "python",
   "name": "python3"
  },
  "language_info": {
   "codemirror_mode": {
    "name": "ipython",
    "version": 3
   },
   "file_extension": ".py",
   "mimetype": "text/x-python",
   "name": "python",
   "nbconvert_exporter": "python",
   "pygments_lexer": "ipython3",
   "version": "3.6.3"
  }
 },
 "nbformat": 4,
 "nbformat_minor": 2
}
