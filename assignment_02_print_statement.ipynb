{
 "cells": [
  {
   "cell_type": "markdown",
   "metadata": {},
   "source": [
    "# Assignment 02: Print Statement"
   ]
  },
  {
   "cell_type": "markdown",
   "metadata": {},
   "source": [
    "## Instructions"
   ]
  },
  {
   "cell_type": "markdown",
   "metadata": {},
   "source": [
    "In the home directory (~) create a directory called *`assignments`*. Inside *`assignments`* create a directory called *`01_print`*. For each exercise create a file inside `01_print` called *`exercise_xx.py`* where *`xx`* is the number of the exercise. For example, for exercise 1 the file should be named *`exercise_01.py`*.\n",
    "\n",
    "Remember that to run a python program you should use:\n",
    "\n",
    "*`$python filename.py`*\n",
    "\n",
    "When you are done with the exercises, submit each python file as an attachment of a comment on trello.\n",
    "\n",
    "The deadline for this assignment is February 11th."
   ]
  },
  {
   "cell_type": "markdown",
   "metadata": {},
   "source": [
    "### Exercise 01\n",
    "#### Write a program that displays 3 different mensages in 3 different lines: *`Welcome to Python`*, *`Welcome to Computer Science`*, and *`Programming is fun`*."
   ]
  },
  {
   "cell_type": "markdown",
   "metadata": {},
   "source": [
    "### Exercise 02\n",
    "#### Write a program that displays *`Welcome to Python`* five times in five different lines."
   ]
  },
  {
   "cell_type": "markdown",
   "metadata": {},
   "source": [
    "### Exercise 03 \n",
    "#### Write a program that displays the following pattern:"
   ]
  },
  {
   "cell_type": "code",
   "execution_count": null,
   "metadata": {
    "collapsed": true
   },
   "outputs": [],
   "source": [
    "FFFFFFF  U     U  NN     NN\n",
    "FF       U     U  NNN    NN\n",
    "FFFFFFF  U     U  NN N   NN\n",
    "FF        U   U   NN  N  NN\n",
    "FF         UUU    NN    NNN"
   ]
  },
  {
   "cell_type": "markdown",
   "metadata": {},
   "source": [
    "### Exercise 04 \n",
    "#### Write a program that displays the following table:"
   ]
  },
  {
   "cell_type": "code",
   "execution_count": null,
   "metadata": {
    "collapsed": true
   },
   "outputs": [],
   "source": [
    "a   a^2   a^3\n",
    "1   1     1\n",
    "2   4     8\n",
    "3   9     27\n",
    "4   16    64"
   ]
  },
  {
   "cell_type": "markdown",
   "metadata": {},
   "source": [
    "### Exercise 05\n",
    "#### Write a program that displays the result of *`1 + 2 + 3 + 4 + 5 + 6 + 7 + 8 + 9`*. The output printed should be:\n",
    "*`The result of 1 + 2 + 3 + 4 + 5 + 6 + 7 + 8 + 9 is ...`*"
   ]
  },
  {
   "cell_type": "markdown",
   "metadata": {},
   "source": [
    "### Exercise 06\n",
    "#### Write a program to compute the area of a circle of radius 10 cm. The output printed should be:\n",
    "*`The area of a circle of radius 10 is ...`*\n",
    "#### Use `3.141592` as the value of Pi"
   ]
  }
 ],
 "metadata": {
  "kernelspec": {
   "display_name": "Python [conda root]",
   "language": "python",
   "name": "conda-root-py"
  },
  "language_info": {
   "codemirror_mode": {
    "name": "ipython",
    "version": 3
   },
   "file_extension": ".py",
   "mimetype": "text/x-python",
   "name": "python",
   "nbconvert_exporter": "python",
   "pygments_lexer": "ipython3",
   "version": "3.6.3"
  }
 },
 "nbformat": 4,
 "nbformat_minor": 2
}
