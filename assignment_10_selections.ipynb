{
 "cells": [
  {
   "cell_type": "markdown",
   "metadata": {},
   "source": [
    "# Assignment 10: Selections"
   ]
  },
  {
   "cell_type": "markdown",
   "metadata": {},
   "source": [
    "## Instructions"
   ]
  },
  {
   "cell_type": "markdown",
   "metadata": {},
   "source": [
    "1. Keep in mind how important is to be honest while doing your assignment, so __do not plagiarize__. The violation of this policy will automatically get you out of the course, and it might have further consequences in your high school.\n",
    "\n",
    "2. Do not forget to follow the coding styles that we have discussed previously, and from now on. You won't be warned specifically about these mistakes, but your card will contain a comment asking for style changes, and the card will be moved to the DOING list.\n",
    "\n",
    "3. Organize your time and avoid procrastinating. Remember that if you run into trouble you could use your assignment free penalties to postpone a deadline. Getting together to postpone an assignment is neither the way to solve problems, nor a demonstration of teamwork. Rules have been set since the beginning, and you were clearly told to plan ahead."
   ]
  },
  {
   "cell_type": "markdown",
   "metadata": {},
   "source": [
    "### Exercise 01\n",
    "#### (Find future dates) Write a program that prompts the user to enter an integer for today’s day of the week (Sunday is 0, Monday is 1, ..., and Saturday is 6). Also prompt the user to enter the number of days after today for a future day and display the future day of the week. Here is a sample run:\n",
    "\n",
    "``Enter today's day: `` *1*\n",
    "\n",
    "``Enter the number of days elapsed since today: `` *3*\n",
    "\n",
    "``Today is Monday and the future day is Thursday``"
   ]
  },
  {
   "cell_type": "markdown",
   "metadata": {},
   "source": [
    "### Exercise 02\n",
    "#### (Sort three integers) Write a program that prompts the user to enter three integers and displays them in increasing order.\n",
    "\n",
    "``Enter three integers: `` *10,-3,5*\n",
    "\n",
    "``The numbers in ascending order are -3, 5, and 10.``"
   ]
  },
  {
   "cell_type": "markdown",
   "metadata": {},
   "source": [
    "### Exercise 03\n",
    "#### (Find the number of days in a month) Write a program that prompts the user to enter the month and year and displays the number of days in the month. For example, if the user entered month 2 and year 2000, the program should display that February 2000 has 29 days. If the user entered month 3 and year 2005, the program should display that March 2005 has 31 days.\n",
    "\n",
    "``Enter the month: `` *2*\n",
    "\n",
    "``Enter the year: `` *2000*\n",
    "\n",
    "``February 2000 has 29 days.``"
   ]
  },
  {
   "cell_type": "markdown",
   "metadata": {},
   "source": [
    "### Exercise 04\n",
    "#### (Compute the perimeter of a triangle) Write a program that reads three edges for a triangle and computes the perimeter if the input is valid. Otherwise, display that the input is invalid. The input is valid if the sum of every pair of two edges is greater than the remaining edge. Here is a sample run:\n",
    "\n",
    "``Enter three edges: `` *1,1,1*\n",
    "\n",
    "``The perimeter is 3``\n",
    "\n",
    "``Enter three edges: `` *1,3,1*\n",
    "\n",
    "``The input is invalid``"
   ]
  },
  {
   "cell_type": "markdown",
   "metadata": {},
   "source": [
    "### Exercise 05\n",
    "#### (Science: day of the week) Zeller’s congruence is an algorithm developed by Christian Zeller to calculate the day of the week. The formula is:"
   ]
  },
  {
   "cell_type": "markdown",
   "metadata": {},
   "source": [
    "$$h = (q+ \\lfloor\\frac{26(m + 1)}{10}\\rfloor + k + \\lfloor\\frac{k}{4}\\rfloor + \\lfloor\\frac{j}{4}\\rfloor + 5j)  \\%  7 $$"
   ]
  },
  {
   "cell_type": "markdown",
   "metadata": {},
   "source": [
    "#### where\n",
    "#### ``h`` is the day of the week (0: Saturday, 1: Sunday, 2: Monday, 3: Tuesday, 4: Wednesday, 5: Thursday, 6: Friday).\n",
    "#### ``q`` is the day of the month.\n",
    "#### ``m`` is the month (3: March, 4: April, ..., 12: December). January and February are counted as months 13 and 14 of the previous year.\n",
    "#### ``j`` is the century (i.e., $\\lfloor\\frac{year}{100}\\rfloor$)\n",
    "#### ``k`` is the year of the century (i.e., year%100)\n",
    "\n",
    "#### Write a program that prompts the user to enter a year, month, and day of the month, and then it displays the name of the day of the week. Here are some sample runs:\n",
    "\n",
    "``Enter year: (e.g., 2008): `` *2013*\n",
    "\n",
    "``Enter month: 1-12: `` *1*\n",
    "\n",
    "``Enter the day of the month: 1-31: `` *25*\n",
    "\n",
    "``Day of the week is Friday``\n",
    "\n",
    "``Enter year: (e.g., 2008): `` *2012*\n",
    "\n",
    "``Enter month: 1-12: `` *5*\n",
    "\n",
    "``Enter the day of the month: 1-31: `` *12*\n",
    "\n",
    "``Day of the week is Saturday``\n"
   ]
  },
  {
   "cell_type": "markdown",
   "metadata": {
    "collapsed": true
   },
   "source": [
    "**Hint:** \n",
    "For a positive n: $$ \\lfloor n \\rfloor = n//1 $$\n",
    "\n",
    "January and February are counted as 13 and 14 in the formula, so you need to convert the user input 1 to 13 and 2 to 14 for the month and change the year to the previous year."
   ]
  },
  {
   "cell_type": "markdown",
   "metadata": {},
   "source": [
    "### Exercise 06\n",
    "#### (Game: pick a card ) Write a program that simulates picking a card from a deck of 52 cards. Your program should display the rank (Ace, 2, 3, 4, 5, 6, 7, 8, 9, 10, Jack, Queen, King) and suit (Clubs, Diamonds, Hearts, Spades) of the card. Here is a sample run of the program:"
   ]
  },
  {
   "cell_type": "markdown",
   "metadata": {},
   "source": [
    "``The card you picked is the Jack of Hearts ``"
   ]
  },
  {
   "cell_type": "markdown",
   "metadata": {},
   "source": [
    "### Exercise 07\n",
    "#### (Palindrome number) Write a program that prompts the user to enter a three-digit integer and determines whether it is a palindrome number. A number is a palindrome if it reads the same from right to left and from left to right. Here is a sample run of this program:"
   ]
  },
  {
   "cell_type": "markdown",
   "metadata": {},
   "source": [
    "``Enter a three-digit integer: ``*121*\n",
    "\n",
    "``121 is a palindrome``\n",
    "\n",
    "``Enter a three-digit integer: ``*123*\n",
    "\n",
    "``123 is not a palindrome``"
   ]
  },
  {
   "cell_type": "markdown",
   "metadata": {},
   "source": [
    "### Exercise 08\n",
    "#### (Geometry: points in triangle?) Suppose a right triangle is placed in a plane as shown below. The right-angle point is at (0, 0), and the other two points are at (200, 0), and (0, 100). Write a program that prompts the user to enter a point with x- and y-coordinates and determines whether the point is inside the triangle. Here are some sample runs:"
   ]
  },
  {
   "cell_type": "code",
   "execution_count": 12,
   "metadata": {},
   "outputs": [
    {
     "data": {
      "text/html": [
       "<script>\n",
       "code_show=true; \n",
       "function code_toggle() {\n",
       " if (code_show){\n",
       " $('div.input').hide();\n",
       " } else {\n",
       " $('div.input').show();\n",
       " }\n",
       " code_show = !code_show\n",
       "} \n",
       "$( document ).ready(code_toggle);\n",
       "</script>\n"
      ],
      "text/plain": [
       "<IPython.core.display.HTML object>"
      ]
     },
     "execution_count": 12,
     "metadata": {},
     "output_type": "execute_result"
    }
   ],
   "source": [
    "from IPython.display import Image\n",
    "from IPython.core.display import HTML\n",
    "\n",
    "from IPython.display import HTML\n",
    "\n",
    "HTML('''<script>\n",
    "code_show=true; \n",
    "function code_toggle() {\n",
    " if (code_show){\n",
    " $('div.input').hide();\n",
    " } else {\n",
    " $('div.input').show();\n",
    " }\n",
    " code_show = !code_show\n",
    "} \n",
    "$( document ).ready(code_toggle);\n",
    "</script>\n",
    "''')\n"
   ]
  },
  {
   "cell_type": "code",
   "execution_count": 9,
   "metadata": {},
   "outputs": [
    {
     "data": {
      "image/png": "[encoded data removed]",
      "text/plain": [
       "<IPython.core.display.Image object>"
      ]
     },
     "execution_count": 9,
     "metadata": {},
     "output_type": "execute_result"
    }
   ],
   "source": [
    "Image(filename = \"img/ass10_ex08_00.png\")"
   ]
  },
  {
   "cell_type": "markdown",
   "metadata": {},
   "source": [
    "``Enter a point's x- and y-coordinates: ``*100.5, 25.5*\n",
    "\n",
    "``The point is in the triangle``\n",
    "\n",
    "``Enter a point's x- and y-coordinates: ``*100.5, 50.5*\n",
    "\n",
    "``The point is not in the triangle``"
   ]
  },
  {
   "cell_type": "markdown",
   "metadata": {},
   "source": [
    "### Exercise 09\n",
    "#### (Hex to decimal) Write a program that prompts the user to enter a hex character and displays its corresponding decimal integer. Here are some sample runs:\n",
    "\n",
    "``Enter a hex character: ``*A*\n",
    "\n",
    "``The decimal value is 10``\n",
    "\n",
    "``Enter a hex character: ``*a*\n",
    "\n",
    "``The decimal value is 10``\n",
    "\n",
    "``Enter a hex character: ``*5*\n",
    "\n",
    "``The decimal value is 5``\n",
    "\n",
    "``Enter a hex character: ``*G*\n",
    "\n",
    "``Invalid input``"
   ]
  }
 ],
 "metadata": {
  "kernelspec": {
   "display_name": "Python [conda root]",
   "language": "python",
   "name": "conda-root-py"
  },
  "language_info": {
   "codemirror_mode": {
    "name": "ipython",
    "version": 3
   },
   "file_extension": ".py",
   "mimetype": "text/x-python",
   "name": "python",
   "nbconvert_exporter": "python",
   "pygments_lexer": "ipython3",
   "version": "3.6.3"
  }
 },
 "nbformat": 4,
 "nbformat_minor": 2
}
