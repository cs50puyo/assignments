{
 "cells": [
  {
   "cell_type": "markdown",
   "metadata": {},
   "source": [
    "# Assignment 05: Print Statement and Variables"
   ]
  },
  {
   "cell_type": "markdown",
   "metadata": {},
   "source": [
    "## Instructions"
   ]
  },
  {
   "cell_type": "markdown",
   "metadata": {},
   "source": [
    "Please keep in mind the style conventions we have talked in class:\n",
    "1. Add spaces after and before a binary operator.\n",
    "2. In a print statement, just add a space after the comma not before.\n",
    "3. In a print statement, the associated parenthesis does not have spaces neither after not before.\n",
    "4. Use meaningful names for the variables, so use radius instead of r."
   ]
  },
  {
   "cell_type": "markdown",
   "metadata": {},
   "source": [
    "### Exercise 01\n",
    "#### Write a program that displays the result of"
   ]
  },
  {
   "cell_type": "markdown",
   "metadata": {},
   "source": [
    "$$ \\frac{9.5\\times4.5-2.5\\times3}{45.5-3.5} $$"
   ]
  },
  {
   "cell_type": "markdown",
   "metadata": {},
   "source": [
    "#### Declare a variable called ``result`` and assign it the expression above.\n",
    "#### The program should print:\n",
    "\n",
    "``The result of the computation is XXXX.``\n",
    "\n",
    "#### Where XXXX is the value of ``result``."
   ]
  },
  {
   "cell_type": "markdown",
   "metadata": {},
   "source": [
    "### Exercise 02\n",
    "#### Approximate $\\Pi$, $\\Pi$ can be computed using the following formula:"
   ]
  },
  {
   "cell_type": "markdown",
   "metadata": {},
   "source": [
    "$$ \\Pi=4\\times(1-\\frac{1}{3}+\\frac{1}{5}-\\frac{1}{7}+\\frac{1}{9}-\\frac{1}{11}+ ...) $$"
   ]
  },
  {
   "cell_type": "markdown",
   "metadata": {},
   "source": [
    "#### Write a program to compute the value of Pi using the previous formula.\n",
    "#### 1. Declare a variable called ``first_approximation`` and assign it the following expression:"
   ]
  },
  {
   "cell_type": "markdown",
   "metadata": {},
   "source": [
    "$$ 4\\times(1-\\frac{1}{3}+\\frac{1}{5}-\\frac{1}{7}+\\frac{1}{9}-\\frac{1}{11}) $$"
   ]
  },
  {
   "cell_type": "markdown",
   "metadata": {},
   "source": [
    "#### 2. Declare a variable called ``second_approximation`` and assign it the following expression:"
   ]
  },
  {
   "cell_type": "markdown",
   "metadata": {},
   "source": [
    "$$ 4\\times(1-\\frac{1}{3}+\\frac{1}{5}-\\frac{1}{7}+\\frac{1}{9}-\\frac{1}{11}+\\frac{1}{13}-\\frac{1}{15}) $$"
   ]
  },
  {
   "cell_type": "markdown",
   "metadata": {},
   "source": [
    "#### The program should print:\n",
    "\n",
    "``The first approximation of pi is XXX``\n",
    "\n",
    "``The second approximation of pi is YYY``\n",
    "\n",
    "#### Where XXX and YYY are the values of ``first_approximation`` and ``second_approximation``."
   ]
  },
  {
   "cell_type": "markdown",
   "metadata": {},
   "source": [
    "### Exercise 03\n",
    "#### Area and perimeter of a rectangle. Write a program that displays the area and perimeter of a rectangle with the width of 4.5 and height of 7.9 using the following formulas:"
   ]
  },
  {
   "cell_type": "markdown",
   "metadata": {},
   "source": [
    "$$ area = width\\times height $$\n",
    "$$ perimeter = 2\\times width + 2\\times height $$"
   ]
  },
  {
   "cell_type": "markdown",
   "metadata": {},
   "source": [
    "#### Declare two variables called ``width`` and ``height`` and assign them the mentioned values. Declare the variables ``area`` and ``perimeter``, and use the formulas shown above to compute their values.\n",
    "\n",
    "#### The program should print:\n",
    "\n",
    "``The area of a rectangle of width XXX and height YYY is ZZZ``\n",
    "\n",
    "``The perimeter of a rectangle of width XXX and height YYY is AAA``\n",
    "\n",
    "#### Where XXX, YYY, ZZZ, and AAA are the values of the variables ``width``, ``height``, ``area`` and ``perimeter`` respectively."
   ]
  },
  {
   "cell_type": "markdown",
   "metadata": {},
   "source": [
    "### Exercise 04\n",
    "#### Average speed. Assume a runner runs 14 kilometers in 45 minutes and 30 seconds. Write a program that displays the average speed in miles per hour. (Note that 1 mile is 1.60934 kilometers)."
   ]
  },
  {
   "cell_type": "markdown",
   "metadata": {},
   "source": [
    "$$ average\\enspace speed = \\frac{distance}{time} $$"
   ]
  },
  {
   "cell_type": "markdown",
   "metadata": {},
   "source": [
    "#### 1. Declare a variable called ``distance`` and assign it the expression to get the distance in miles.\n",
    "#### 2. Declare a variable called ``time`` and assign it the expression to get the distance in hours.\n",
    "#### 3. Declare a variable called ``average_speed`` and use the formula shown above to compute its value."
   ]
  },
  {
   "cell_type": "markdown",
   "metadata": {},
   "source": [
    "#### The program should print:\n",
    "\n",
    "``The average speed of the runner is XXX``\n",
    "\n",
    "#### Where XXX is the value of ``average_speed``."
   ]
  },
  {
   "cell_type": "markdown",
   "metadata": {},
   "source": [
    "### Exercise 05\n",
    "#### The US Census Bureau projects population based on the following assumptions:\n",
    "#### One birth every 7 seconds\n",
    "#### One death every 13 seconds\n",
    "#### One new immigrant every 45 seconds\n",
    "\n",
    "#### Write a program to display the population for each of the next five years. Assume the current population is 7.6 billion (7,600,000,000,000) and one year has 365 days (ignore leap years).\n",
    "\n",
    "Hint: in Python, you can use integer division operator // to perform division. The result is an integer. For example, 5 // 4 is 1 (not 1.25) and 10 // 4 is 2 (not 2.5)."
   ]
  },
  {
   "cell_type": "markdown",
   "metadata": {},
   "source": [
    "#### The program should print:\n",
    "\n",
    "``The population in 2018 is 7600000000000``\n",
    "\n",
    "``The population in 2019 is AAA``\n",
    "\n",
    "``The population in 2020 is BBB``\n",
    "\n",
    "``The population in 2021 is CCC``\n",
    "\n",
    "``The population in 2022 is DDD``\n",
    "\n",
    "``The population in 2023 is EEE``\n",
    "\n",
    "#### Where AAA, BBB, CCC, DDD, EEE are the population for the years 2019, 2020, 2021, 2022, and 2023 respectively."
   ]
  },
  {
   "cell_type": "markdown",
   "metadata": {},
   "source": [
    "### Note: Feel free to ask as many questions as you want to the instructor."
   ]
  }
 ],
 "metadata": {
  "kernelspec": {
   "display_name": "Python [conda root]",
   "language": "python",
   "name": "conda-root-py"
  },
  "language_info": {
   "codemirror_mode": {
    "name": "ipython",
    "version": 3
   },
   "file_extension": ".py",
   "mimetype": "text/x-python",
   "name": "python",
   "nbconvert_exporter": "python",
   "pygments_lexer": "ipython3",
   "version": "3.6.3"
  }
 },
 "nbformat": 4,
 "nbformat_minor": 2
}
