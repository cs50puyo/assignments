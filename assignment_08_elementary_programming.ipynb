{
 "cells": [
  {
   "cell_type": "markdown",
   "metadata": {},
   "source": [
    "# Assignment 08: Elementary Programming"
   ]
  },
  {
   "cell_type": "markdown",
   "metadata": {},
   "source": [
    "## Assignment Policy\n",
    "\n",
    "1. Keep in mind how important is to be honest while doing your assignment, so **DO NOT PLAGIARIZE**. The violation of this policy will automatically get you out of the course, and it might have further consequences in your high school.\n",
    "\n",
    "2. Organize your time well and avoid procrastinating. Remember that if you run into trouble you could use one of your free assignment penalties to postpone a deadline, but use them wisely.\n",
    "\n",
    "3. Follow the coding styles that we have discussed in class."
   ]
  },
  {
   "cell_type": "markdown",
   "metadata": {},
   "source": [
    "## Instructions"
   ]
  },
  {
   "cell_type": "markdown",
   "metadata": {},
   "source": [
    "Go to the home directory `~`. Change directory to `assignments` which should exist in your home directory. Inside `assignments` create a directory called `elementary-programming`. For each exercise create a file inside `elementary-programming` called `exercise_XX.py` where XX is the number of the exercise. For example, for exercise 1 the file should be named `exercise_01.py`.\n",
    "\n",
    "Remember that to run a python program you can use:\n",
    "\n",
    "`$ python filename.py`\n",
    "\n",
    "When you are done with the exercises, compress your directory `elementary-programming` and submit it to the corresponding Trello card on your board.\n",
    "\n",
    "**Note**: Feel free to ask as many questions as you want to the instructor."
   ]
  },
  {
   "cell_type": "markdown",
   "metadata": {},
   "source": [
    "### Exercise 01\n",
    "#### (Sum the digits in an integer) Write a program that reads an integer between 0 and 1000 and adds all the digits in the integer. For example, if an integer is 932, the sum of all its digits is 14. (Hint: Use the % operator to extract digits, and use the // operator to remove the extracted digit. For instance, 932 % 10 = 2 and 932 // 10 = 93.) Here is a sample run:\n",
    "``Enter a number between 0 and 1000:`` *999*\n",
    "\n",
    "``The sum of the digits is 27``"
   ]
  },
  {
   "cell_type": "markdown",
   "metadata": {},
   "source": [
    "### Exercise 02\n",
    "#### (Find the number of years and days) Write a program that prompts the user to enter the minutes (e.g., 1 billion), and displays the number of years and days for the minutes. For simplicity, assume a year has 365 days. Here is a sample run:\n",
    "``Enter the number of minutes:`` *1000000000*\n",
    "\n",
    "``1000000000 minutes is approximately 1902 years and 214 days``"
   ]
  },
  {
   "cell_type": "markdown",
   "metadata": {},
   "source": [
    "### Exercise 03\n",
    "#### (Science: calculate energy) Write a program that calculates the energy needed to heat water from an initial temperature to a final temperature. Your program should prompt the user to enter the amount of water in kilograms and the initial and final temperatures of the water. The formula to compute the energy is"
   ]
  },
  {
   "cell_type": "markdown",
   "metadata": {},
   "source": [
    "`Q = M * (final_temperature - initial_temperature) * 4184`"
   ]
  },
  {
   "cell_type": "markdown",
   "metadata": {},
   "source": [
    "#### where M is the weight of water in kilograms, temperatures are in Celsius, and energy Q is measured in joules. Here is a sample run:\n",
    "``Enter the amount of water in kilograms:`` *55.5*\n",
    "\n",
    "``Enter the initial temperature:`` *3.5*\n",
    "\n",
    "``Enter the final temperature:`` *10.5*\n",
    "\n",
    "``The energy needed is 1625484.0``"
   ]
  },
  {
   "cell_type": "markdown",
   "metadata": {},
   "source": [
    "### Exercise 04\n",
    "#### (Physics: find runway length) Given an airplane’s acceleration a and take-off speed v, you can compute the minimum runway length needed for an airplane to take off using the following formula:"
   ]
  },
  {
   "cell_type": "markdown",
   "metadata": {},
   "source": [
    "$$ length = \\frac{v^2}{2a} $$"
   ]
  },
  {
   "cell_type": "markdown",
   "metadata": {},
   "source": [
    "#### Write a program that prompts the user to enter v in meters/second (m/s) and the acceleration a in meters/second squared and displays the minimum runway length. Round the result to 3 decimal places. Here is a sample run:\n",
    "``Enter speed and acceleration:`` *60, 3.5*\n",
    "\n",
    "``The minimum runway length for this airplane is 514.286 meters``"
   ]
  },
  {
   "cell_type": "markdown",
   "metadata": {},
   "source": [
    "### Exercise 05\n",
    "#### (Print a table) Write a program that displays the following table. Use tabs instead of spaces to align the table properly."
   ]
  },
  {
   "cell_type": "code",
   "execution_count": null,
   "metadata": {
    "collapsed": true
   },
   "outputs": [],
   "source": [
    "a   b   a**b\n",
    "1   2   1\n",
    "2   3   8\n",
    "3   4   81\n",
    "4   5   1024\n",
    "5   6   15625"
   ]
  },
  {
   "cell_type": "markdown",
   "metadata": {},
   "source": [
    "### Exercise 06\n",
    "#### (Split digits) Write a program that prompts the user to enter a four-digit integer and displays the number in reverse order. Here is a sample run:"
   ]
  },
  {
   "cell_type": "markdown",
   "metadata": {},
   "source": [
    "``Enter an integer: ``*3125*\n",
    "\n",
    "5\n",
    "\n",
    "2\n",
    "\n",
    "1\n",
    "\n",
    "3"
   ]
  },
  {
   "cell_type": "markdown",
   "metadata": {},
   "source": [
    "### Exercise 07\n",
    "#### (Geometry: area of a  triangle) Write a program that prompts the user to enter the three points (x1, y1), (x2, y2), and (x3, y3) of a triangle and displays its area. The formula for computing the area of a triangle is"
   ]
  },
  {
   "cell_type": "markdown",
   "metadata": {},
   "source": [
    "$$s = \\frac{side1 + side2 + side3}{2} $$"
   ]
  },
  {
   "cell_type": "markdown",
   "metadata": {},
   "source": [
    "$$area = \\sqrt{s(s-side1)(s-side2)(s-side3)} $$"
   ]
  },
  {
   "cell_type": "markdown",
   "metadata": {},
   "source": [
    "#### Round the result to 3 decimal places. Here is a sample run:"
   ]
  },
  {
   "cell_type": "markdown",
   "metadata": {},
   "source": [
    "``Enter three points for a triangle: ``*1.5, -3.4, 4.6, 5, 9.5, -3.4*\n",
    "\n",
    "``The area of the triangle is 33.6``"
   ]
  },
  {
   "cell_type": "markdown",
   "metadata": {},
   "source": [
    "### Exercise 08\n",
    "#### (Financial application: compound value) Suppose you save \\$100 each month into a savings account with an annual interest rate of 5%. Therefore, the monthly interest rate is 0.05/12 = 0.00417. After the first month, the value in the account becomes"
   ]
  },
  {
   "cell_type": "markdown",
   "metadata": {},
   "source": [
    "$$100*(1+0.00417) = 100.417 $$\n",
    "#### After the second month, the value in the account becomes\n",
    "$$(100+100.417)*(1+0.00417) = 201.252 $$\n",
    "#### After the third month, the value in the account becomes\n",
    "$$(100+201.252)*(1+0.00417) = 302.507 $$\n",
    "#### and so on.\n",
    "#### Write a program that prompts the user to enter a monthly saving amount and displays the account value after the sixth month. Round the result to 5 decimal places. Here is a sample run of the program:"
   ]
  },
  {
   "cell_type": "markdown",
   "metadata": {},
   "source": [
    "``Enter the monthly saving amount: ``*100*\n",
    "\n",
    "``After the sixth month, the account value is 608.81``"
   ]
  }
 ],
 "metadata": {
  "kernelspec": {
   "display_name": "Python [conda root]",
   "language": "python",
   "name": "conda-root-py"
  },
  "language_info": {
   "codemirror_mode": {
    "name": "ipython",
    "version": 3
   },
   "file_extension": ".py",
   "mimetype": "text/x-python",
   "name": "python",
   "nbconvert_exporter": "python",
   "pygments_lexer": "ipython3",
   "version": "3.6.3"
  }
 },
 "nbformat": 4,
 "nbformat_minor": 2
}
